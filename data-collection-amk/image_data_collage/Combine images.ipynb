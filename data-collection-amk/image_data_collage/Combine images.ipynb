{
 "cells": [
  {
   "cell_type": "code",
   "execution_count": 1,
   "metadata": {},
   "outputs": [
    {
     "name": "stderr",
     "output_type": "stream",
     "text": [
      "692it [03:27,  3.22it/s]\n"
     ]
    }
   ],
   "source": [
    "import sys\n",
    "from PIL import Image\n",
    "import os\n",
    "import json\n",
    "from tqdm import tqdm\n",
    "\n",
    "def find_between( s, first, last ):\n",
    "    try:\n",
    "        start = s.index( first ) + len( first )\n",
    "        end = s.rindex( last, start )\n",
    "        return s[start:end]\n",
    "    except ValueError:\n",
    "        return \"\"\n",
    "\n",
    "path = \"original/\"\n",
    "tasks = {}\n",
    "for filea in os.listdir(path):\n",
    "    if filea.endswith(\".png\"):\n",
    "        fileb = os.path.join(path, filea)\n",
    "        name = find_between(filea,'HIT_','_')\n",
    "        value = []\n",
    "        if tasks.has_key(name):\n",
    "            value = tasks[name]\n",
    "            value.append(fileb)\n",
    "        else:\n",
    "            value = [fileb]\n",
    "        \n",
    "        tasks[name] = value\n",
    "\n",
    "        \n",
    "for name, value in tqdm(tasks.iteritems()):\n",
    "    images_list = []\n",
    "    for i in range(len(value)-1):\n",
    "        images_list.append(path+\"HIT_\"+name+\"_\"+str(i+1)+\".png\")\n",
    "    \n",
    "    images = map(Image.open, images_list)\n",
    "    widths, heights = zip(*(i.size for i in images))\n",
    "\n",
    "    total_width = sum(widths)\n",
    "    max_height = max(heights)\n",
    "\n",
    "    new_im = Image.new('RGB', (total_width, max_height))\n",
    "\n",
    "    x_offset = 0\n",
    "    for im in images:\n",
    "        new_im.paste(im, (x_offset,0))\n",
    "        x_offset += im.size[0]\n",
    "\n",
    "    new_im.save(name+'.jpg')\n",
    "    \n",
    "    # now save final\n",
    "    images_list = []\n",
    "    images_list.append(path+\"HIT_\"+name+\"_\"+str(len(value)-1)+\".png\")\n",
    "    \n",
    "    images = map(Image.open, images_list)\n",
    "    widths, heights = zip(*(i.size for i in images))\n",
    "\n",
    "    total_width = sum(widths)\n",
    "    max_height = max(heights)\n",
    "\n",
    "    new_im = Image.new('RGB', (total_width, max_height))\n",
    "\n",
    "    x_offset = 0\n",
    "    for im in images:\n",
    "        new_im.paste(im, (x_offset,0))\n",
    "        x_offset += im.size[0]\n",
    "\n",
    "    new_im.save(name+'_final.jpg')"
   ]
  },
  {
   "cell_type": "code",
   "execution_count": 2,
   "metadata": {},
   "outputs": [
    {
     "name": "stderr",
     "output_type": "stream",
     "text": [
      "100%|██████████| 692/692 [00:02<00:00, 301.84it/s] \n"
     ]
    }
   ],
   "source": [
    "html = \"<!DOCTYPE html>\\n<html>\\n<body>\\n<h2>The End</h2>\\n</body>\\n</html>\\n\"\n",
    "number = str(692)\n",
    "\n",
    "count = 0\n",
    "for name in tqdm(sorted(tasks.iterkeys())):\n",
    "    count = count + 1\n",
    "    value = tasks[name]\n",
    "    instructions = \"\"\n",
    "    with open(name+'_ins.json') as json_file:  \n",
    "        data = json.load(json_file)\n",
    "        for pp in data['instructions']:\n",
    "            instructions += \"<p>\"+pp+\"</p>\\n\"\n",
    "        \n",
    "    html = html.replace('<h2>The End</h2>\\n',\n",
    "                        (\"\\n\"\n",
    "    \"<h2>Count: \"+str(count)+\"&nbsp;&nbsp;&nbsp; Index: \"+name.replace(\"_configs_\", \"&nbsp;&nbsp;&nbsp; <font color='red'><strong>Config: \")\n",
    "                         +\"&nbsp;&nbsp;&nbsp; Instructions: \"+data['ins_name']+\"</strong></font></h2>\\n\"\n",
    "    \"<img src='images_data_collage_\"+number+\"/\"+name+\"_final.jpg'  style='float:right; width: 400px'/>\\n\"\n",
    "    \"<div>\\n\"+instructions+\"</div>\\n\"\n",
    "    \"<img src='images_data_collage_\"+number+\"/\"+name+\".jpg' style='display:block; width:100%; height:auto;'>\\n\\n\"\n",
    "    \"<h2>The End</h2>\\n\"\n",
    "                       )).encode(\"ascii\")\n",
    "\n",
    "with open(\"table-setting reconstructed images \"+number+\".html\", \"w\") as text_file:\n",
    "    text_file.write(\"{0}\".format(html))\n",
    "    \n",
    "# print(html)"
   ]
  },
  {
   "cell_type": "code",
   "execution_count": 4,
   "metadata": {},
   "outputs": [
    {
     "name": "stdout",
     "output_type": "stream",
     "text": [
      "https://s3.amazonaws.com/nusrls/table-setting_reconstructed_images_692.html\n"
     ]
    }
   ],
   "source": [
    "import boto3\n",
    "import collections\n",
    "import os\n",
    "\n",
    "def upload_html_to_s3(\n",
    "    html_filepath = None,\n",
    "    s3_bucket_name = None,\n",
    "    keyname = None):\n",
    "\n",
    "    # Uploads an HTML file on your computer to an s3 bucket on your AWS account.\n",
    "    s3 = boto3.resource('s3')\n",
    "    s3.meta.client.upload_file(html_filepath, s3_bucket_name, keyname,ExtraArgs= {'ContentType': 'text/html'})\n",
    "\n",
    "    object_acl = s3.ObjectAcl(s3_bucket_name, keyname)\n",
    "    response = object_acl.put(ACL='public-read')\n",
    "    url = os.path.join('https://s3.amazonaws.com', s3_bucket_name, keyname)\n",
    "    print(url)\n",
    "\n",
    "    return url\n",
    "\n",
    "url = upload_html_to_s3(html_filepath ='table-setting reconstructed images '+number+'.html', \n",
    "                   s3_bucket_name = 'nusrls', # Change this to the name of the bucket you created.\n",
    "                   keyname = 'table-setting_reconstructed_images_'+number+'.html')"
   ]
  },
  {
   "cell_type": "code",
   "execution_count": null,
   "metadata": {},
   "outputs": [],
   "source": []
  }
 ],
 "metadata": {
  "kernelspec": {
   "display_name": "Python 2",
   "language": "python",
   "name": "python2"
  },
  "language_info": {
   "codemirror_mode": {
    "name": "ipython",
    "version": 2
   },
   "file_extension": ".py",
   "mimetype": "text/x-python",
   "name": "python",
   "nbconvert_exporter": "python",
   "pygments_lexer": "ipython2",
   "version": "2.7.16"
  }
 },
 "nbformat": 4,
 "nbformat_minor": 2
}
